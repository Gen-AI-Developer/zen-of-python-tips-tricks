{
 "cells": [
  {
   "cell_type": "markdown",
   "metadata": {},
   "source": [
    "# Project ATM"
   ]
  },
  {
   "cell_type": "code",
   "execution_count": 1,
   "metadata": {},
   "outputs": [],
   "source": [
    "class ATM:\n",
    "\n",
    "    def __init__(self):\n",
    "        self.name = None\n",
    "        self.balance = 0\n",
    "        self.pin = None\n",
    "    def create_account(self):\n",
    "        self.account_number = input(\"Enter your account title: \")\n",
    "        self.pin = input(\"Enter your PIN: \")\n",
    "        print(\"Account created successfully!\")\n",
    "    def deposit(self):\n",
    "        amount = float(input(\"Enter the amount to deposit: \"))\n",
    "        self.balance += amount\n",
    "        print(\"Deposit successful!\")\n",
    "    def withdraw(self):\n",
    "        amount = float(input(\"Enter the amount to withdraw: \"))\n",
    "        if amount > self.balance:\n",
    "            print(\"Insufficient balance!\")\n",
    "        else:\n",
    "            self.balance -= amount\n",
    "            print(\"Withdrawal successful!\")\n",
    "    def check_balance(self):\n",
    "        print(\"Your current balance is: \", self.balance)\n",
    "    def change_pin(self):\n",
    "        new_pin = input(\"Enter your new PIN: \")\n",
    "        self.pin = new_pin\n",
    "        print(\"PIN changed successfully!\")\n",
    "        print(\"Your new PIN is: \", self.pin)\n",
    "    def display_account(self):\n",
    "        print(\"Account title: \", self.account_number)\n",
    "        print(\"PIN: \", self.pin)\n",
    "        print(\"Balance: \", self.balance)\n",
    "\n",
    "    "
   ]
  }
 ],
 "metadata": {
  "kernelspec": {
   "display_name": "Python 3",
   "language": "python",
   "name": "python3"
  },
  "language_info": {
   "codemirror_mode": {
    "name": "ipython",
    "version": 3
   },
   "file_extension": ".py",
   "mimetype": "text/x-python",
   "name": "python",
   "nbconvert_exporter": "python",
   "pygments_lexer": "ipython3",
   "version": "3.12.4"
  }
 },
 "nbformat": 4,
 "nbformat_minor": 2
}
