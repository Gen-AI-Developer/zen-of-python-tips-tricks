{
 "cells": [
  {
   "cell_type": "markdown",
   "metadata": {},
   "source": [
    "# Project ATM"
   ]
  },
  {
   "cell_type": "code",
   "execution_count": null,
   "metadata": {},
   "outputs": [],
   "source": [
    "class ATM:\n",
    "    def __init__(self, name , balance, pin):\n",
    "        self.name = name\n",
    "        self.balance = balance\n",
    "        self.pin = pin\n",
    "    def create_account(self,name,balance,pin):\n",
    "        self.name = name\n",
    "        self.balance = balance\n",
    "        self.pin = pin\n",
    "        print(\"Account created successfully!\")\n",
    "    def deposit(self):\n",
    "        amount = float(input(\"Enter the amount to deposit: \"))\n",
    "        self.balance += amount\n",
    "        print(\"Deposit successful!\")\n",
    "    def withdraw(self):\n",
    "        amount = float(input(\"Enter the amount to withdraw: \"))\n",
    "        if amount > self.balance:\n",
    "            print(\"Insufficient balance!\")\n",
    "        else:\n",
    "            self.balance -= amount\n",
    "            print(\"Withdrawal successful!\")\n",
    "    def check_balance(self):\n",
    "        print(\"Your current balance is: \", self.balance)\n",
    "    def change_pin(self):\n",
    "        new_pin = input(\"Enter your new PIN: \")\n",
    "        self.pin = new_pin\n",
    "        print(\"PIN changed successfully!\")\n",
    "        print(\"Your new PIN is: \", self.pin)\n",
    "    def display_account(self):\n",
    "        print(\"Account title: \", self.name)\n",
    "        print(\"PIN: \", self.pin)\n",
    "        print(\"Balance: \", self.balance)\n",
    "\n",
    "    "
   ]
  },
  {
   "cell_type": "code",
   "execution_count": 10,
   "metadata": {},
   "outputs": [
    {
     "name": "stdout",
     "output_type": "stream",
     "text": [
      "Deposit successful!\n",
      "Account title:  Safdar ALi Shah\n",
      "PIN:  1234\n",
      "Balance:  1239322.0\n"
     ]
    }
   ],
   "source": [
    "first = ATM('Safdar ALi Shah', 1000, 1234)\n",
    "first.deposit()\n",
    "first.display_account()"
   ]
  }
 ],
 "metadata": {
  "kernelspec": {
   "display_name": "Python 3",
   "language": "python",
   "name": "python3"
  },
  "language_info": {
   "codemirror_mode": {
    "name": "ipython",
    "version": 3
   },
   "file_extension": ".py",
   "mimetype": "text/x-python",
   "name": "python",
   "nbconvert_exporter": "python",
   "pygments_lexer": "ipython3",
   "version": "3.12.4"
  }
 },
 "nbformat": 4,
 "nbformat_minor": 2
}
