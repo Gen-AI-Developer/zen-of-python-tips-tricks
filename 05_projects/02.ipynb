{
 "cells": [
  {
   "cell_type": "markdown",
   "metadata": {},
   "source": [
    "### Udemy: Inheritance Example Project"
   ]
  },
  {
   "cell_type": "code",
   "execution_count": 5,
   "metadata": {},
   "outputs": [
    {
     "name": "stdout",
     "output_type": "stream",
     "text": [
      "enroll\n",
      "review\n",
      "login\n",
      "register\n",
      "login\n",
      "register\n"
     ]
    }
   ],
   "source": [
    "class User:\n",
    "    def login(self):\n",
    "        print('login')\n",
    "    def ragister(self):\n",
    "        print('register')\n",
    "\n",
    "class Student(User):\n",
    "    def enroll(self):\n",
    "        print('enroll')\n",
    "    def review(self):\n",
    "        print('review')\n",
    "\n",
    "\n",
    "\n",
    "student1 = Student()\n",
    "student1.enroll()\n",
    "student1.review()\n",
    "student1.login()\n",
    "student1.ragister()\n",
    "user1 = User()\n",
    "user1.login()\n",
    "user1.ragister()\n",
    "# user1.reviwe()"
   ]
  },
  {
   "cell_type": "markdown",
   "metadata": {},
   "source": [
    "### inheriting the class constructor"
   ]
  },
  {
   "cell_type": "code",
   "execution_count": 13,
   "metadata": {},
   "outputs": [
    {
     "name": "stdout",
     "output_type": "stream",
     "text": [
      "Phone Information: \n",
      "Brand:  Samsung \n",
      "Model: Galaxy S10 \n",
      "Year : 2019  \n",
      "Camera: 12MP \n",
      "Price: 100000\n",
      "-----------------------------------\n",
      "Phone Information: \n",
      "Brand:  Apple \n",
      "Model: Iphone 12 Pro Max Ultra Slim \n",
      "Year : 2020  \n",
      "Camera: 12MP \n",
      "Price: 100000\n",
      "-----------------------------------\n"
     ]
    }
   ],
   "source": [
    "class Phone:\n",
    "    def __init__(self, brand, model, year,camera,price):\n",
    "        self.brand = brand\n",
    "        self.model = model\n",
    "        self.year = year\n",
    "        self.camera = camera\n",
    "        self.price = price\n",
    "    def display_info(self):\n",
    "        print(f'Phone Information: \\nBrand:  {self.brand} \\nModel: {self.model} \\nYear : {self.year}  \\nCamera: {self.camera} \\nPrice: {self.price}')\n",
    "        print('-----------------------------------')\n",
    "p1 = Phone('Samsung', 'Galaxy S10', 2019, '12MP', 100000)\n",
    "p1.display_info()\n",
    "\n",
    "class Iphone(Phone):\n",
    "    pass\n",
    "i1 = Iphone('Apple', 'Iphone 12 Pro Max Ultra Slim', 2020, '12MP', 100000)\n",
    "i1.display_info()"
   ]
  },
  {
   "cell_type": "code",
   "execution_count": 23,
   "metadata": {},
   "outputs": [
    {
     "name": "stdout",
     "output_type": "stream",
     "text": [
      "Phone Information: \n",
      "Brand:  Samsung \n",
      "Model: Galaxy S10 \n",
      "Year : 2019  \n",
      "Camera: 12MP \n",
      "Price: 100000\n",
      " Code: 1234\n",
      "-----------------------------------\n",
      "Phone Information: \n",
      "Brand:  Apple \n",
      "Model: Iphone 12 Pro Max Ultra Slim \n",
      "Year : 2020  \n",
      "Camera: 12MP \n",
      "Price: 100000\n",
      " Code: 3422\n",
      "-----------------------------------\n"
     ]
    }
   ],
   "source": [
    "class Phone:\n",
    "    def __init__(self, brand, model, year,camera,price,code):\n",
    "        self.__code = code\n",
    "        self.brand = brand\n",
    "        self.model = model\n",
    "        self.year = year\n",
    "        self.camera = camera\n",
    "        self.price = price\n",
    "    def display_info(self):\n",
    "        print(f'Phone Information: \\nBrand:  {self.brand} \\nModel: {self.model} \\nYear : {self.year}  \\nCamera: {self.camera} \\nPrice: {self.price}\\n Code: {self.__code}')\n",
    "        print('-----------------------------------')\n",
    "p1 = Phone('Samsung', 'Galaxy S10', 2019, '12MP', 100000, 1234)\n",
    "p1.display_info()\n",
    "\n",
    "class Iphone(Phone):\n",
    "    pass\n",
    "i1 = Iphone('Apple', 'Iphone 12 Pro Max Ultra Slim', 2020, '12MP', 100000,3422)\n",
    "i1.__code = 1234\n",
    "i1.display_info()"
   ]
  },
  {
   "cell_type": "markdown",
   "metadata": {},
   "source": [
    "### Method Over-riding"
   ]
  },
  {
   "cell_type": "code",
   "execution_count": 24,
   "metadata": {},
   "outputs": [
    {
     "name": "stdout",
     "output_type": "stream",
     "text": [
      "a1\n"
     ]
    }
   ],
   "source": [
    "class a2:\n",
    "    def printer (self):\n",
    "        print('a2')\n",
    "class a1(a2):\n",
    "    def printer(self):\n",
    "        print('a1')\n",
    "\n",
    "one = a1()\n",
    "one.printer()"
   ]
  },
  {
   "cell_type": "markdown",
   "metadata": {},
   "source": [
    "## Super keyword\n"
   ]
  },
  {
   "cell_type": "code",
   "execution_count": 25,
   "metadata": {},
   "outputs": [
    {
     "name": "stdout",
     "output_type": "stream",
     "text": [
      "a1\n",
      "a1 => key\n",
      "a2 => key\n"
     ]
    }
   ],
   "source": [
    "class a2:\n",
    "    def printer (self):\n",
    "        print('a2')\n",
    "    def key(self):\n",
    "        print('a2 => key')\n",
    "class a1(a2):\n",
    "    def printer(self):\n",
    "        print('a1')\n",
    "    def key(self):\n",
    "        print('a1 => key')\n",
    "        super().key()\n",
    "\n",
    "one = a1()\n",
    "one.printer()\n",
    "one.key()\n"
   ]
  }
 ],
 "metadata": {
  "kernelspec": {
   "display_name": "Python 3",
   "language": "python",
   "name": "python3"
  },
  "language_info": {
   "codemirror_mode": {
    "name": "ipython",
    "version": 3
   },
   "file_extension": ".py",
   "mimetype": "text/x-python",
   "name": "python",
   "nbconvert_exporter": "python",
   "pygments_lexer": "ipython3",
   "version": "3.12.4"
  }
 },
 "nbformat": 4,
 "nbformat_minor": 2
}
