{
 "cells": [
  {
   "cell_type": "markdown",
   "metadata": {},
   "source": [
    "# datacamp.com\n",
    "https://www.datacamp.com/cheat-sheet/getting-started-with-python-cheat-sheet"
   ]
  },
  {
   "cell_type": "markdown",
   "metadata": {},
   "source": [
    "### Python Cheat Sheet for Beginners\n"
   ]
  },
  {
   "cell_type": "markdown",
   "metadata": {},
   "source": [
    "Python is the most popular programming language in data science. Use this cheat sheet to jumpstart your Python learning journey."
   ]
  },
  {
   "cell_type": "markdown",
   "metadata": {},
   "source": [
    "Python is the most popular programming language in data science. It is easy to learn and comes with a wide array of powerful libraries for data analysis. This cheat sheet provides beginners and intermediate users a guide to using python. Use it to jump-start your journey with python. Check out other Python cheats sheets if you want more detailed guides.\n",
    "\n"
   ]
  },
  {
   "cell_type": "markdown",
   "metadata": {},
   "source": [
    "# Accessing help and getting object types\n",
    "\n"
   ]
  },
  {
   "cell_type": "code",
   "execution_count": 1,
   "metadata": {},
   "outputs": [
    {
     "name": "stdout",
     "output_type": "stream",
     "text": [
      "Help on built-in function max in module builtins:\n",
      "\n",
      "max(...)\n",
      "    max(iterable, *[, default=obj, key=func]) -> value\n",
      "    max(arg1, arg2, *args, *[, key=func]) -> value\n",
      "\n",
      "    With a single iterable argument, return its biggest item. The\n",
      "    default keyword-only argument specifies an object to return if\n",
      "    the provided iterable is empty.\n",
      "    With two or more arguments, return the largest argument.\n",
      "\n"
     ]
    },
    {
     "data": {
      "text/plain": [
       "str"
      ]
     },
     "execution_count": 1,
     "metadata": {},
     "output_type": "execute_result"
    }
   ],
   "source": [
    "1 + 1 #Everything after the hash symbol is ignored by Python\n",
    "help(max) #Display the documentation for the max function\n",
    "type('a') #Get the type of an object — this returns str"
   ]
  },
  {
   "cell_type": "markdown",
   "metadata": {},
   "source": [
    "# Importing packages\n",
    "\n",
    "Python packages are a collection of useful tools developed by the open-source community. They extend the capabilities of the python language. To install a new package (for example, pandas), you can go to your command prompt and type in - pip install pandas -. Once a package is installed, you can import it as follows."
   ]
  },
  {
   "cell_type": "code",
   "execution_count": 2,
   "metadata": {},
   "outputs": [],
   "source": [
    "import pandas # Import a package without an alias\n",
    "import pandas as pd # Import a package with an alias\n",
    "from pandas import DataFrame # Import an object from a package"
   ]
  },
  {
   "cell_type": "markdown",
   "metadata": {},
   "source": [
    "# The working directory\n",
    "The working directory is the default file path that python reads or saves files into. An example of the working directory is ”C://file/path\".  The os library is needed to set and get the working directory. "
   ]
  },
  {
   "cell_type": "code",
   "execution_count": 8,
   "metadata": {},
   "outputs": [
    {
     "name": "stdout",
     "output_type": "stream",
     "text": [
      "Old Working Directory: /home/SafdarAliShah/Documents/code/zen-of-python-tips-tricks/02\n",
      "New Working Directory: /home/SafdarAliShah/Documents/code/zen-of-python-tips-tricks/02\n"
     ]
    }
   ],
   "source": [
    "import os # Import the operating system package\n",
    "wd = os.getcwd() # Get the current directory\n",
    "print('Old Working Directory:',wd) # Print the current directory \n",
    "os.chdir(wd) # Set the working directory to a\n",
    "print('New Working Directory:',os.getcwd()) # Print the current directory"
   ]
  },
  {
   "cell_type": "markdown",
   "metadata": {},
   "source": [
    "# Operators\n",
    "### Arithmetic operators"
   ]
  },
  {
   "cell_type": "code",
   "execution_count": 9,
   "metadata": {},
   "outputs": [
    {
     "data": {
      "text/plain": [
       "1"
      ]
     },
     "execution_count": 9,
     "metadata": {},
     "output_type": "execute_result"
    }
   ],
   "source": [
    "102 + 37 #Add two numbers with +\n",
    "102 - 37 # Subtract a number with -\n",
    "4 * 6 # Multiply two numbers with *\n",
    "22 / 7 # Divide a number by another with /\n",
    "22 // 7 # Integer divide a number with //\n",
    "3 ** 4 # Raise to the power with **\n",
    "22 % 7 # Returns 1 # Get the remainder  after division with %"
   ]
  },
  {
   "cell_type": "markdown",
   "metadata": {},
   "source": [
    "### Assignment operators\n",
    "\n"
   ]
  },
  {
   "cell_type": "code",
   "execution_count": 12,
   "metadata": {},
   "outputs": [
    {
     "name": "stdout",
     "output_type": "stream",
     "text": [
      "[11, 2, 3, 4, 5]\n"
     ]
    }
   ],
   "source": [
    "x = [1,2,3,4,5] # Create a list\n",
    "a = 5 # Assign a value to a\n",
    "x[0] =11 # Change the value of an item in a list\n",
    "print(x) # Print the list"
   ]
  },
  {
   "cell_type": "markdown",
   "metadata": {},
   "source": [
    "### Numeric comparison operators\n",
    "\n"
   ]
  },
  {
   "cell_type": "code",
   "execution_count": 13,
   "metadata": {},
   "outputs": [
    {
     "data": {
      "text/plain": [
       "True"
      ]
     },
     "execution_count": 13,
     "metadata": {},
     "output_type": "execute_result"
    }
   ],
   "source": [
    "3 == 3 # Test for equality with ==\n",
    "3 != 3 # Test for inequality with !=\n",
    "3 > 1 # Test greater than with >\n",
    "3 >= 3 # Test greater than or equal to with >=\n",
    "3 < 4 # Test less than with <\n",
    "3 <= 4 # Test less than or equal to with <="
   ]
  },
  {
   "cell_type": "markdown",
   "metadata": {},
   "source": [
    "### Logical operators\n",
    "\n"
   ]
  },
  {
   "cell_type": "code",
   "execution_count": 14,
   "metadata": {},
   "outputs": [
    {
     "name": "stderr",
     "output_type": "stream",
     "text": [
      "/tmp/ipykernel_62384/2012360951.py:1: DeprecationWarning: Bitwise inversion '~' on bool is deprecated. This returns the bitwise inversion of the underlying int object and is usually not what you expect from negating a bool. Use the 'not' operator for boolean negation or ~int(x) if you really want the bitwise inversion of the underlying int.\n",
      "  ~(2 == 2) # Logical NOT with ~\n"
     ]
    },
    {
     "data": {
      "text/plain": [
       "False"
      ]
     },
     "execution_count": 14,
     "metadata": {},
     "output_type": "execute_result"
    }
   ],
   "source": [
    "~(2 == 2) # Logical NOT with ~\n",
    "(1 != 1) & (1 < 1) # Logical AND with &\n",
    "(1 >= 1) | (1 < 1) # Logical OR with |\n",
    "(1 != 1) ^ (1 < 1) # Logical XOR with ^"
   ]
  },
  {
   "cell_type": "markdown",
   "metadata": {},
   "source": [
    "# Getting started with lists\n",
    "A list is an ordered and changeable sequence of elements. It can hold integers, characters, floats, strings, and even objects.\n",
    "\n",
    "### Creating lists"
   ]
  },
  {
   "cell_type": "code",
   "execution_count": 15,
   "metadata": {},
   "outputs": [],
   "source": [
    "# Create lists with [], elements separated by commas\n",
    "x = [1, 3, 2]"
   ]
  },
  {
   "cell_type": "markdown",
   "metadata": {},
   "source": [
    "### List functions and methods\n"
   ]
  },
  {
   "cell_type": "code",
   "execution_count": 18,
   "metadata": {},
   "outputs": [
    {
     "ename": "AttributeError",
     "evalue": "'list' object has no attribute 'reversed'",
     "output_type": "error",
     "traceback": [
      "\u001b[0;31m---------------------------------------------------------------------------\u001b[0m",
      "\u001b[0;31mAttributeError\u001b[0m                            Traceback (most recent call last)",
      "Cell \u001b[0;32mIn[18], line 11\u001b[0m\n\u001b[1;32m      8\u001b[0m \u001b[38;5;28mreversed\u001b[39m(x) \u001b[38;5;66;03m# Returns [2, 3, 1]\u001b[39;00m\n\u001b[1;32m     10\u001b[0m \u001b[38;5;66;03m# Reverse the list in-place\u001b[39;00m\n\u001b[0;32m---> 11\u001b[0m \u001b[43mx\u001b[49m\u001b[38;5;241;43m.\u001b[39;49m\u001b[43mreversed\u001b[49m() \u001b[38;5;66;03m# Returns None\u001b[39;00m\n\u001b[1;32m     13\u001b[0m \u001b[38;5;66;03m# Count the number of element 2 in the list\u001b[39;00m\n\u001b[1;32m     14\u001b[0m x\u001b[38;5;241m.\u001b[39mcount(\u001b[38;5;241m2\u001b[39m)\n",
      "\u001b[0;31mAttributeError\u001b[0m: 'list' object has no attribute 'reversed'"
     ]
    }
   ],
   "source": [
    "# Return a sorted copy of the list x\n",
    "sorted(x) # Returns [1, 2, 3]\n",
    "\n",
    "# Sort the list in-place (replaces x)\n",
    "x.sort() # Returns None\n",
    "\n",
    "# Reverse the order of elements in x\n",
    "reversed(x) # Returns [2, 3, 1]\n",
    "\n",
    "# Reverse the list in-place\n",
    "x.reversed() # Returns None\n",
    "\n",
    "# Count the number of element 2 in the list\n",
    "x.count(2)"
   ]
  },
  {
   "cell_type": "markdown",
   "metadata": {},
   "source": [
    "### Selecting list elements\n",
    "Python lists are zero-indexed (the first element has index 0). For ranges, the first element is included, but the last is not."
   ]
  },
  {
   "cell_type": "code",
   "execution_count": 19,
   "metadata": {},
   "outputs": [
    {
     "data": {
      "text/plain": [
       "['a', 'b', 'c']"
      ]
     },
     "execution_count": 19,
     "metadata": {},
     "output_type": "execute_result"
    }
   ],
   "source": [
    "# Define the list \n",
    "x = ['a', 'b', 'c', 'd', 'e']\n",
    "\n",
    "# Select the 0th element in the list\n",
    "x[0] # 'a'\n",
    "\n",
    "# Select the last element in the list\n",
    "x[-1] # 'e'\n",
    "\n",
    "# Select 1st (inclusive) to 3rd (exclusive)\n",
    "x[1:3] # ['b', 'c']\n",
    "\n",
    "# Select the 2nd to the end\n",
    "x[2:] # ['c', 'd', 'e']\n",
    "\n",
    "# Select 0th to 3rd (exclusive)\n",
    "x[:3] # ['a', 'b', 'c']"
   ]
  },
  {
   "cell_type": "markdown",
   "metadata": {},
   "source": [
    "### Concatenating lists\n",
    "\n"
   ]
  },
  {
   "cell_type": "code",
   "execution_count": 20,
   "metadata": {},
   "outputs": [
    {
     "data": {
      "text/plain": [
       "[1, 3, 6, 1, 3, 6, 1, 3, 6]"
      ]
     },
     "execution_count": 20,
     "metadata": {},
     "output_type": "execute_result"
    }
   ],
   "source": [
    "# Define the list x and y  \n",
    "x = [1, 3, 6] \n",
    "y = [10, 15, 21]\n",
    "\n",
    "# Concatenate lists with +\n",
    "x + y # [1, 3, 6, 10, 15, 21]\n",
    "\n",
    "# Repeat list n times with *\n",
    "3 * x # [1, 3, 6, 1, 3, 6, 1, 3, 6]"
   ]
  },
  {
   "cell_type": "markdown",
   "metadata": {},
   "source": [
    "# Getting started with dictionaries\n",
    "A dictionary stores data values in key-value pairs. That is, unlike lists indexed by position, dictionaries are indexed by their keys, the names of which must be unique.\n",
    "\n",
    "### Creating dictionaries"
   ]
  },
  {
   "cell_type": "code",
   "execution_count": 21,
   "metadata": {},
   "outputs": [
    {
     "data": {
      "text/plain": [
       "{'a': 1, 'b': 4, 'c': 9}"
      ]
     },
     "execution_count": 21,
     "metadata": {},
     "output_type": "execute_result"
    }
   ],
   "source": [
    "# Create a dictionary with {}\n",
    "{'a': 1, 'b': 4, 'c': 9}"
   ]
  },
  {
   "cell_type": "markdown",
   "metadata": {},
   "source": [
    "### Dictionary functions and methods\n",
    "\n"
   ]
  },
  {
   "cell_type": "code",
   "execution_count": 22,
   "metadata": {},
   "outputs": [
    {
     "ename": "AttributeError",
     "evalue": "'list' object has no attribute 'keys'",
     "output_type": "error",
     "traceback": [
      "\u001b[0;31m---------------------------------------------------------------------------\u001b[0m",
      "\u001b[0;31mAttributeError\u001b[0m                            Traceback (most recent call last)",
      "Cell \u001b[0;32mIn[22], line 5\u001b[0m\n\u001b[1;32m      2\u001b[0m a \u001b[38;5;241m=\u001b[39m {\u001b[38;5;124m'\u001b[39m\u001b[38;5;124ma\u001b[39m\u001b[38;5;124m'\u001b[39m: \u001b[38;5;241m1\u001b[39m, \u001b[38;5;124m'\u001b[39m\u001b[38;5;124mb\u001b[39m\u001b[38;5;124m'\u001b[39m: \u001b[38;5;241m2\u001b[39m, \u001b[38;5;124m'\u001b[39m\u001b[38;5;124mc\u001b[39m\u001b[38;5;124m'\u001b[39m: \u001b[38;5;241m3\u001b[39m}\n\u001b[1;32m      4\u001b[0m \u001b[38;5;66;03m# Get the keys\u001b[39;00m\n\u001b[0;32m----> 5\u001b[0m \u001b[43mx\u001b[49m\u001b[38;5;241;43m.\u001b[39;49m\u001b[43mkeys\u001b[49m() \u001b[38;5;66;03m# dict_keys(['a', 'b', 'c'])\u001b[39;00m\n\u001b[1;32m      7\u001b[0m \u001b[38;5;66;03m# Get  the values\u001b[39;00m\n\u001b[1;32m      8\u001b[0m x\u001b[38;5;241m.\u001b[39mvalues() \u001b[38;5;66;03m# dict_values([1, 2, 3])\u001b[39;00m\n",
      "\u001b[0;31mAttributeError\u001b[0m: 'list' object has no attribute 'keys'"
     ]
    }
   ],
   "source": [
    "# Define the dictionary\n",
    "a = {'a': 1, 'b': 2, 'c': 3}\n",
    "\n",
    "# Get the keys\n",
    "x.keys() # dict_keys(['a', 'b', 'c'])\n",
    "\n",
    "# Get  the values\n",
    "x.values() # dict_values([1, 2, 3])\n",
    "\n",
    "# Get a value from a dictionary by specifying the key\n",
    "x['a'] # 1"
   ]
  },
  {
   "cell_type": "markdown",
   "metadata": {},
   "source": [
    "# NumPy arrays\n",
    "NumPy is a python package for scientific computing. It provides a multidimensional array of objects and efficient operations on them. To import NumPy, you can run this Python code import numpy as np\n",
    "\n",
    "### Creating arrays"
   ]
  },
  {
   "cell_type": "code",
   "execution_count": 24,
   "metadata": {},
   "outputs": [],
   "source": [
    "import numpy as np"
   ]
  },
  {
   "cell_type": "code",
   "execution_count": 26,
   "metadata": {},
   "outputs": [
    {
     "data": {
      "text/plain": [
       "array([1, 3, 6, 1, 3, 6, 1, 3, 6])"
      ]
     },
     "execution_count": 26,
     "metadata": {},
     "output_type": "execute_result"
    }
   ],
   "source": [
    "# Convert a python list to a NumPy array\n",
    "np.array([1, 2, 3]) # array([1, 2, 3])\n",
    "\n",
    "# Return a sequence from start (inclusive) to end (exclusive)\n",
    "np.arange(1,5) # array([1, 2, 3, 4])\n",
    "\n",
    "# Return a stepped sequence from start (inclusive) to end (exclusive)\n",
    "np.arange(1,5,2) # array([1, 3])\n",
    "\n",
    "# Repeat values n times\n",
    "np.repeat([1, 3, 6], 3) # array([1, 1, 1, 3, 3, 3, 6, 6, 6])\n",
    "\n",
    "# Repeat values n times\n",
    "np.tile([1, 3, 6], 3) # array([1, 3, 6, 1, 3, 6, 1, 3, 6])"
   ]
  },
  {
   "cell_type": "markdown",
   "metadata": {},
   "source": [
    "### Math functions and methods\n",
    "\n"
   ]
  },
  {
   "cell_type": "code",
   "execution_count": null,
   "metadata": {},
   "outputs": [
    {
     "ename": "NameError",
     "evalue": "name 'q' is not defined",
     "output_type": "error",
     "traceback": [
      "\u001b[0;31m---------------------------------------------------------------------------\u001b[0m",
      "\u001b[0;31mNameError\u001b[0m                                 Traceback (most recent call last)",
      "Cell \u001b[0;32mIn[27], line 14\u001b[0m\n\u001b[1;32m     12\u001b[0m np\u001b[38;5;241m.\u001b[39mmean(x)\n\u001b[1;32m     13\u001b[0m \u001b[38;5;66;03m# Calculate q-th quantile of an array x\u001b[39;00m\n\u001b[0;32m---> 14\u001b[0m np\u001b[38;5;241m.\u001b[39mquantile(x, \u001b[43mq\u001b[49m)\n\u001b[1;32m     15\u001b[0m \u001b[38;5;66;03m# Round an array to n decimal places\u001b[39;00m\n\u001b[1;32m     16\u001b[0m np\u001b[38;5;241m.\u001b[39mround(x, n)\n",
      "\u001b[0;31mNameError\u001b[0m: name 'q' is not defined"
     ]
    }
   ],
   "source": [
    "# Calculate logarithm of an array\n",
    "np.log(x) \n",
    "# Calculate exponential of an array\n",
    "np.exp(x)\n",
    "# Get maximum value of an array\n",
    "np.max(x)\n",
    "# Get minimum value of an array\n",
    "np.min(x)\n",
    "# Calculate sum of an array\n",
    "np.sum(x)\n",
    "# Calculate mean of an array\n",
    "np.mean(x)\n",
    "# Calculate q-th quantile of an array x\n",
    "np.quantile(x, q1)\n",
    "# Round an array to n decimal places\n",
    "np.round(x, n)\n",
    "# Calculate variance of an array\n",
    "np.var(x)\n",
    "# Calculate standard deviation of an array\n",
    "np.std(x) "
   ]
  },
  {
   "cell_type": "markdown",
   "metadata": {},
   "source": [
    "# Getting started with characters and strings\n",
    "\n"
   ]
  },
  {
   "cell_type": "code",
   "execution_count": 32,
   "metadata": {},
   "outputs": [
    {
     "data": {
      "text/plain": [
       "'Data Science'"
      ]
     },
     "execution_count": 32,
     "metadata": {},
     "output_type": "execute_result"
    }
   ],
   "source": [
    "# Create a string variable with single or double quotes\n",
    "str = \"DataCamp\"\n",
    "\n",
    "# Embed a quote in string with the escape character \\\n",
    "str = \"He said, \\\"DataCamp\\\"\"\n",
    "\n",
    "# Create multi-line strings with triple quotes\n",
    "str = \"\"\"Data Science\n",
    "For All, A Frame of Data\n",
    "Tidy, Mine, Analyze It\n",
    "Now You Have Meaning\n",
    "Citation: https://mdsr-book.github.io/haikus.html\n",
    "\"\"\"\n",
    "\n",
    "# Get the character at a specific position\n",
    "str[0] \n",
    "\n",
    "# Get a substring from starting to ending index (exclusive)\n",
    "str[0:12]"
   ]
  },
  {
   "cell_type": "markdown",
   "metadata": {},
   "source": [
    "### Combining and splitting strings\n",
    "\n"
   ]
  },
  {
   "cell_type": "code",
   "execution_count": 33,
   "metadata": {},
   "outputs": [
    {
     "data": {
      "text/plain": [
       "['b', '', 'k', '', 'p', 'rs']"
      ]
     },
     "execution_count": 33,
     "metadata": {},
     "output_type": "execute_result"
    }
   ],
   "source": [
    "# Concatenate strings with +\n",
    "\"Data\" + \"Framed\" # 'DataFramed'\n",
    "\n",
    "# Repeat strings with *\n",
    "3 * \"data \" # 'data data data '\n",
    "\n",
    "# Split a string on a delimiter\n",
    "\"beekeepers\".split(\"e\") # ['b', '', 'k', '', 'p', 'rs']"
   ]
  },
  {
   "cell_type": "code",
   "execution_count": null,
   "metadata": {},
   "outputs": [],
   "source": []
  }
 ],
 "metadata": {
  "kernelspec": {
   "display_name": "Python 3",
   "language": "python",
   "name": "python3"
  },
  "language_info": {
   "codemirror_mode": {
    "name": "ipython",
    "version": 3
   },
   "file_extension": ".py",
   "mimetype": "text/x-python",
   "name": "python",
   "nbconvert_exporter": "python",
   "pygments_lexer": "ipython3",
   "version": "3.12.4"
  }
 },
 "nbformat": 4,
 "nbformat_minor": 2
}
