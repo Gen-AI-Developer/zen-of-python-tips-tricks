{
 "cells": [
  {
   "cell_type": "markdown",
   "metadata": {},
   "source": [
    "# datacamp.com\n",
    "https://www.datacamp.com/cheat-sheet/getting-started-with-python-cheat-sheet"
   ]
  },
  {
   "cell_type": "markdown",
   "metadata": {},
   "source": [
    "### Python Cheat Sheet for Beginners\n"
   ]
  },
  {
   "cell_type": "markdown",
   "metadata": {},
   "source": [
    "Python is the most popular programming language in data science. Use this cheat sheet to jumpstart your Python learning journey."
   ]
  },
  {
   "cell_type": "markdown",
   "metadata": {},
   "source": [
    "Python is the most popular programming language in data science. It is easy to learn and comes with a wide array of powerful libraries for data analysis. This cheat sheet provides beginners and intermediate users a guide to using python. Use it to jump-start your journey with python. Check out other Python cheats sheets if you want more detailed guides.\n",
    "\n"
   ]
  },
  {
   "cell_type": "markdown",
   "metadata": {},
   "source": [
    "# Accessing help and getting object types\n",
    "\n"
   ]
  },
  {
   "cell_type": "code",
   "execution_count": 1,
   "metadata": {},
   "outputs": [
    {
     "name": "stdout",
     "output_type": "stream",
     "text": [
      "Help on built-in function max in module builtins:\n",
      "\n",
      "max(...)\n",
      "    max(iterable, *[, default=obj, key=func]) -> value\n",
      "    max(arg1, arg2, *args, *[, key=func]) -> value\n",
      "\n",
      "    With a single iterable argument, return its biggest item. The\n",
      "    default keyword-only argument specifies an object to return if\n",
      "    the provided iterable is empty.\n",
      "    With two or more arguments, return the largest argument.\n",
      "\n"
     ]
    },
    {
     "data": {
      "text/plain": [
       "str"
      ]
     },
     "execution_count": 1,
     "metadata": {},
     "output_type": "execute_result"
    }
   ],
   "source": [
    "1 + 1 #Everything after the hash symbol is ignored by Python\n",
    "help(max) #Display the documentation for the max function\n",
    "type('a') #Get the type of an object — this returns str"
   ]
  },
  {
   "cell_type": "markdown",
   "metadata": {},
   "source": [
    "# Importing packages\n",
    "\n",
    "Python packages are a collection of useful tools developed by the open-source community. They extend the capabilities of the python language. To install a new package (for example, pandas), you can go to your command prompt and type in - pip install pandas -. Once a package is installed, you can import it as follows."
   ]
  },
  {
   "cell_type": "code",
   "execution_count": 2,
   "metadata": {},
   "outputs": [],
   "source": [
    "import pandas # Import a package without an alias\n",
    "import pandas as pd # Import a package with an alias\n",
    "from pandas import DataFrame # Import an object from a package"
   ]
  },
  {
   "cell_type": "markdown",
   "metadata": {},
   "source": [
    "# The working directory\n",
    "The working directory is the default file path that python reads or saves files into. An example of the working directory is ”C://file/path\".  The os library is needed to set and get the working directory. "
   ]
  },
  {
   "cell_type": "code",
   "execution_count": 8,
   "metadata": {},
   "outputs": [
    {
     "name": "stdout",
     "output_type": "stream",
     "text": [
      "Old Working Directory: /home/SafdarAliShah/Documents/code/zen-of-python-tips-tricks/02\n",
      "New Working Directory: /home/SafdarAliShah/Documents/code/zen-of-python-tips-tricks/02\n"
     ]
    }
   ],
   "source": [
    "import os # Import the operating system package\n",
    "wd = os.getcwd() # Get the current directory\n",
    "print('Old Working Directory:',wd) # Print the current directory \n",
    "os.chdir(wd) # Set the working directory to a\n",
    "print('New Working Directory:',os.getcwd()) # Print the current directory"
   ]
  }
 ],
 "metadata": {
  "kernelspec": {
   "display_name": "Python 3",
   "language": "python",
   "name": "python3"
  },
  "language_info": {
   "codemirror_mode": {
    "name": "ipython",
    "version": 3
   },
   "file_extension": ".py",
   "mimetype": "text/x-python",
   "name": "python",
   "nbconvert_exporter": "python",
   "pygments_lexer": "ipython3",
   "version": "3.12.4"
  }
 },
 "nbformat": 4,
 "nbformat_minor": 2
}
