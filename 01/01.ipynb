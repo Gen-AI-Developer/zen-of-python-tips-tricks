{
 "cells": [
  {
   "cell_type": "markdown",
   "metadata": {},
   "source": [
    "# Type hints cheat sheet"
   ]
  },
  {
   "cell_type": "markdown",
   "metadata": {},
   "source": [
    "https://mypy.readthedocs.io/en/stable/cheat_sheet_py3.html"
   ]
  },
  {
   "cell_type": "markdown",
   "metadata": {},
   "source": [
    "This document is a quick cheat sheet showing how to use type annotations for various common types in Python.\n",
    "\n"
   ]
  },
  {
   "cell_type": "markdown",
   "metadata": {},
   "source": [
    "## Variables"
   ]
  },
  {
   "cell_type": "markdown",
   "metadata": {},
   "source": [
    "Technically many of the type annotations shown below are redundant, since mypy can usually infer the type of a variable from its value. See Type inference and type annotations for more details."
   ]
  },
  {
   "cell_type": "code",
   "execution_count": 1,
   "metadata": {},
   "outputs": [],
   "source": [
    "# This is how you declare the type of a variable\n",
    "age: int = 1\n",
    "\n",
    "# You don't need to initialize a variable to annotate it\n",
    "a: int  # Ok (no value at runtime until assigned)\n",
    "\n",
    "# Doing so can be useful in conditional branches\n",
    "child: bool\n",
    "if age < 18:\n",
    "    child = True\n",
    "else:\n",
    "    child = False"
   ]
  },
  {
   "cell_type": "markdown",
   "metadata": {},
   "source": [
    "# Useful built-in types"
   ]
  },
  {
   "cell_type": "code",
   "execution_count": 3,
   "metadata": {},
   "outputs": [
    {
     "name": "stdout",
     "output_type": "stream",
     "text": [
      "SOMETHING\n",
      "SOMETHING\n"
     ]
    }
   ],
   "source": [
    "# For most types, just use the name of the type in the annotation\n",
    "# Note that mypy can usually infer the type of a variable from its value,\n",
    "# so technically these annotations are redundant\n",
    "x: int = 1\n",
    "x: float = 1.0\n",
    "x: bool = True\n",
    "x: str = \"test\"\n",
    "x: bytes = b\"test\"\n",
    "\n",
    "# For collections on Python 3.9+, the type of the collection item is in brackets\n",
    "x: list[int] = [1]\n",
    "x: set[int] = {6, 7}\n",
    "\n",
    "# For mappings, we need the types of both keys and values\n",
    "x: dict[str, float] = {\"field\": 2.0}  # Python 3.9+\n",
    "\n",
    "# For tuples of fixed size, we specify the types of all the elements\n",
    "x: tuple[int, str, float] = (3, \"yes\", 7.5)  # Python 3.9+\n",
    "\n",
    "# For tuples of variable size, we use one type and ellipsis\n",
    "x: tuple[int, ...] = (1, 2, 3)  # Python 3.9+\n",
    "\n",
    "# On Python 3.8 and earlier, the name of the collection type is\n",
    "# capitalized, and the type is imported from the 'typing' module\n",
    "from typing import List, Set, Dict, Tuple\n",
    "x: List[int] = [1]\n",
    "x: Set[int] = {6, 7}\n",
    "x: Dict[str, float] = {\"field\": 2.0}\n",
    "x: Tuple[int, str, float] = (3, \"yes\", 7.5)\n",
    "x: Tuple[int, ...] = (1, 2, 3)\n",
    "\n",
    "from typing import Union, Optional\n",
    "\n",
    "# On Python 3.10+, use the | operator when something could be one of a few types\n",
    "x: list[int | str] = [3, 5, \"test\", \"fun\"]  # Python 3.10+\n",
    "# On earlier versions, use Union\n",
    "x: list[Union[int, str]] = [3, 5, \"test\", \"fun\"]\n",
    "\n",
    "# Use X | None for a value that could be None on Python 3.10+\n",
    "# Use Optional[X] on 3.9 and earlier; Optional[X] is the same as 'X | None'\n",
    "x: str | None = \"something\" if True else None\n",
    "if x is not None:\n",
    "    # Mypy understands x won't be None here because of the if-statement\n",
    "    print(x.upper())\n",
    "# If you know a value can never be None due to some logic that mypy doesn't\n",
    "# understand, use an assert\n",
    "assert x is not None\n",
    "print(x.upper())"
   ]
  },
  {
   "cell_type": "markdown",
   "metadata": {},
   "source": [
    "# Functions"
   ]
  },
  {
   "cell_type": "code",
   "execution_count": 6,
   "metadata": {},
   "outputs": [
    {
     "ename": "NameError",
     "evalue": "name 'f' is not defined",
     "output_type": "error",
     "traceback": [
      "\u001b[0;31m---------------------------------------------------------------------------\u001b[0m",
      "\u001b[0;31mNameError\u001b[0m                                 Traceback (most recent call last)",
      "Cell \u001b[0;32mIn[6], line 23\u001b[0m\n\u001b[1;32m     20\u001b[0m     x\u001b[38;5;241m.\u001b[39manything() \u001b[38;5;241m+\u001b[39m \u001b[38;5;241m1\u001b[39m \u001b[38;5;241m+\u001b[39m \u001b[38;5;124m\"\u001b[39m\u001b[38;5;124mstring\u001b[39m\u001b[38;5;124m\"\u001b[39m  \u001b[38;5;66;03m# no errors\u001b[39;00m\n\u001b[1;32m     22\u001b[0m \u001b[38;5;66;03m# This is how you annotate a callable (function) value\u001b[39;00m\n\u001b[0;32m---> 23\u001b[0m x: Callable[[\u001b[38;5;28mint\u001b[39m, \u001b[38;5;28mfloat\u001b[39m], \u001b[38;5;28mfloat\u001b[39m] \u001b[38;5;241m=\u001b[39m \u001b[43mf\u001b[49m \u001b[38;5;66;03m# type: ignore\u001b[39;00m\n\u001b[1;32m     24\u001b[0m \u001b[38;5;28;01mdef\u001b[39;00m\u001b[38;5;250m \u001b[39m\u001b[38;5;21mregister\u001b[39m(callback: Callable[[\u001b[38;5;28mstr\u001b[39m], \u001b[38;5;28mint\u001b[39m]) \u001b[38;5;241m-\u001b[39m\u001b[38;5;241m>\u001b[39m \u001b[38;5;28;01mNone\u001b[39;00m: \u001b[38;5;241m.\u001b[39m\u001b[38;5;241m.\u001b[39m\u001b[38;5;241m.\u001b[39m\n\u001b[1;32m     26\u001b[0m \u001b[38;5;66;03m# A generator function that yields ints is secretly just a function that\u001b[39;00m\n\u001b[1;32m     27\u001b[0m \u001b[38;5;66;03m# returns an iterator of ints, so that's how we annotate it\u001b[39;00m\n",
      "\u001b[0;31mNameError\u001b[0m: name 'f' is not defined"
     ]
    }
   ],
   "source": [
    "from collections.abc import Iterator, Callable\n",
    "from typing import Union, Optional\n",
    "\n",
    "# This is how you annotate a function definition\n",
    "def stringify(num: int) -> str:\n",
    "    return str(num)\n",
    "\n",
    "# And here's how you specify multiple arguments\n",
    "def plus(num1: int, num2: int) -> int:\n",
    "    return num1 + num2\n",
    "\n",
    "# If a function does not return a value, use None as the return type\n",
    "# Default value for an argument goes after the type annotation\n",
    "def show(value: str, excitement: int = 10) -> None:\n",
    "    print(value + \"!\" * excitement)\n",
    "\n",
    "# Note that arguments without a type are dynamically typed (treated as Any)\n",
    "# and that functions without any annotations are not checked\n",
    "def untyped(x):\n",
    "    x.anything() + 1 + \"string\"  # no errors\n",
    "\n",
    "# This is how you annotate a callable (function) value\n",
    "x: Callable[[int, float], float] = f # type: ignore\n",
    "def register(callback: Callable[[str], int]) -> None: ...\n",
    "\n",
    "# A generator function that yields ints is secretly just a function that\n",
    "# returns an iterator of ints, so that's how we annotate it\n",
    "def gen(n: int) -> Iterator[int]:\n",
    "    i = 0\n",
    "    while i < n:\n",
    "        yield i\n",
    "        i += 1\n",
    "\n",
    "# You can of course split a function annotation over multiple lines\n",
    "def send_email(\n",
    "    address: str | list[str],\n",
    "    sender: str,\n",
    "    cc: list[str] | None,\n",
    "    bcc: list[str] | None,\n",
    "    subject: str = '',\n",
    "    body: list[str] | None = None,\n",
    ") -> bool:\n",
    "    ...\n",
    "\n",
    "# Mypy understands positional-only and keyword-only arguments\n",
    "# Positional-only arguments can also be marked by using a name starting with\n",
    "# two underscores\n",
    "def quux(x: int, /, *, y: int) -> None:\n",
    "    pass\n",
    "\n",
    "quux(3, y=5)  # Ok\n",
    "quux(3, 5)  # error: Too many positional arguments for \"quux\"\n",
    "quux(x=3, y=5)  # error: Unexpected keyword argument \"x\" for \"quux\"\n",
    "\n",
    "# This says each positional arg and each keyword arg is a \"str\"\n",
    "def call(self, *args: str, **kwargs: str) -> str:\n",
    "    reveal_type(args)  # Revealed type is \"tuple[str, ...]\"\n",
    "    reveal_type(kwargs)  # Revealed type is \"dict[str, str]\"\n",
    "    request = make_request(*args, **kwargs)\n",
    "    return self.do_api_query(request)"
   ]
  },
  {
   "cell_type": "markdown",
   "metadata": {},
   "source": [
    "# Classes"
   ]
  },
  {
   "cell_type": "code",
   "execution_count": 5,
   "metadata": {},
   "outputs": [],
   "source": [
    "from typing import ClassVar\n",
    "\n",
    "class BankAccount:\n",
    "    # The \"__init__\" method doesn't return anything, so it gets return\n",
    "    # type \"None\" just like any other method that doesn't return anything\n",
    "    def __init__(self, account_name: str, initial_balance: int = 0) -> None:\n",
    "        # mypy will infer the correct types for these instance variables\n",
    "        # based on the types of the parameters.\n",
    "        self.account_name = account_name\n",
    "        self.balance = initial_balance\n",
    "\n",
    "    # For instance methods, omit type for \"self\"\n",
    "    def deposit(self, amount: int) -> None:\n",
    "        self.balance += amount\n",
    "\n",
    "    def withdraw(self, amount: int) -> None:\n",
    "        self.balance -= amount\n",
    "\n",
    "# User-defined classes are valid as types in annotations\n",
    "account: BankAccount = BankAccount(\"Alice\", 400)\n",
    "def transfer(src: BankAccount, dst: BankAccount, amount: int) -> None:\n",
    "    src.withdraw(amount)\n",
    "    dst.deposit(amount)\n",
    "\n",
    "# Functions that accept BankAccount also accept any subclass of BankAccount!\n",
    "class AuditedBankAccount(BankAccount):\n",
    "    # You can optionally declare instance variables in the class body\n",
    "    audit_log: list[str]\n",
    "\n",
    "    def __init__(self, account_name: str, initial_balance: int = 0) -> None:\n",
    "        super().__init__(account_name, initial_balance)\n",
    "        self.audit_log: list[str] = []\n",
    "\n",
    "    def deposit(self, amount: int) -> None:\n",
    "        self.audit_log.append(f\"Deposited {amount}\")\n",
    "        self.balance += amount\n",
    "\n",
    "    def withdraw(self, amount: int) -> None:\n",
    "        self.audit_log.append(f\"Withdrew {amount}\")\n",
    "        self.balance -= amount\n",
    "\n",
    "audited = AuditedBankAccount(\"Bob\", 300)\n",
    "transfer(audited, account, 100)  # type checks!\n",
    "\n",
    "# You can use the ClassVar annotation to declare a class variable\n",
    "class Car:\n",
    "    seats: ClassVar[int] = 4\n",
    "    passengers: ClassVar[list[str]]\n",
    "\n",
    "# If you want dynamic attributes on your class, have it\n",
    "# override \"__setattr__\" or \"__getattr__\"\n",
    "class A:\n",
    "    # This will allow assignment to any A.x, if x is the same type as \"value\"\n",
    "    # (use \"value: Any\" to allow arbitrary types)\n",
    "    def __setattr__(self, name: str, value: int) -> None: ...\n",
    "\n",
    "    # This will allow access to any A.x, if x is compatible with the return type\n",
    "    def __getattr__(self, name: str) -> int: ...\n",
    "\n",
    "a = A()\n",
    "a.foo = 42  # Works\n",
    "a.bar = 'Ex-parrot'  # Fails type checking"
   ]
  },
  {
   "cell_type": "markdown",
   "metadata": {},
   "source": [
    "### When you’re puzzled or when things are complicated"
   ]
  },
  {
   "cell_type": "code",
   "execution_count": 7,
   "metadata": {},
   "outputs": [
    {
     "ename": "NameError",
     "evalue": "name 'reveal_type' is not defined",
     "output_type": "error",
     "traceback": [
      "\u001b[0;31m---------------------------------------------------------------------------\u001b[0m",
      "\u001b[0;31mNameError\u001b[0m                                 Traceback (most recent call last)",
      "Cell \u001b[0;32mIn[7], line 6\u001b[0m\n\u001b[1;32m      1\u001b[0m \u001b[38;5;28;01mfrom\u001b[39;00m\u001b[38;5;250m \u001b[39m\u001b[38;5;21;01mtyping\u001b[39;00m\u001b[38;5;250m \u001b[39m\u001b[38;5;28;01mimport\u001b[39;00m Union, Any, Optional, TYPE_CHECKING, cast\n\u001b[1;32m      3\u001b[0m \u001b[38;5;66;03m# To find out what type mypy infers for an expression anywhere in\u001b[39;00m\n\u001b[1;32m      4\u001b[0m \u001b[38;5;66;03m# your program, wrap it in reveal_type().  Mypy will print an error\u001b[39;00m\n\u001b[1;32m      5\u001b[0m \u001b[38;5;66;03m# message with the type; remove it again before running the code.\u001b[39;00m\n\u001b[0;32m----> 6\u001b[0m \u001b[43mreveal_type\u001b[49m(\u001b[38;5;241m1\u001b[39m)  \u001b[38;5;66;03m# Revealed type is \"builtins.int\"\u001b[39;00m\n\u001b[1;32m      8\u001b[0m \u001b[38;5;66;03m# If you initialize a variable with an empty container or \"None\"\u001b[39;00m\n\u001b[1;32m      9\u001b[0m \u001b[38;5;66;03m# you may have to help mypy a bit by providing an explicit type annotation\u001b[39;00m\n\u001b[1;32m     10\u001b[0m x: \u001b[38;5;28mlist\u001b[39m[\u001b[38;5;28mstr\u001b[39m] \u001b[38;5;241m=\u001b[39m []\n",
      "\u001b[0;31mNameError\u001b[0m: name 'reveal_type' is not defined"
     ]
    }
   ],
   "source": [
    "from typing import Union, Any, Optional, TYPE_CHECKING, cast\n",
    "\n",
    "# To find out what type mypy infers for an expression anywhere in\n",
    "# your program, wrap it in reveal_type().  Mypy will print an error\n",
    "# message with the type; remove it again before running the code.\n",
    "reveal_type(1)  # Revealed type is \"builtins.int\"\n",
    "\n",
    "# If you initialize a variable with an empty container or \"None\"\n",
    "# you may have to help mypy a bit by providing an explicit type annotation\n",
    "x: list[str] = []\n",
    "x: str | None = None\n",
    "\n",
    "# Use Any if you don't know the type of something or it's too\n",
    "# dynamic to write a type for\n",
    "x: Any = mystery_function()\n",
    "# Mypy will let you do anything with x!\n",
    "x.whatever() * x[\"you\"] + x(\"want\") - any(x) and all(x) is super  # no errors\n",
    "\n",
    "# Use a \"type: ignore\" comment to suppress errors on a given line,\n",
    "# when your code confuses mypy or runs into an outright bug in mypy.\n",
    "# Good practice is to add a comment explaining the issue.\n",
    "x = confusing_function()  # type: ignore  # confusing_function won't return None here because ...\n",
    "\n",
    "# \"cast\" is a helper function that lets you override the inferred\n",
    "# type of an expression. It's only for mypy -- there's no runtime check.\n",
    "a = [4]\n",
    "b = cast(list[int], a)  # Passes fine\n",
    "c = cast(list[str], a)  # Passes fine despite being a lie (no runtime check)\n",
    "reveal_type(c)  # Revealed type is \"builtins.list[builtins.str]\"\n",
    "print(c)  # Still prints [4] ... the object is not changed or casted at runtime\n",
    "\n",
    "# Use \"TYPE_CHECKING\" if you want to have code that mypy can see but will not\n",
    "# be executed at runtime (or to have code that mypy can't see)\n",
    "if TYPE_CHECKING:\n",
    "    import json\n",
    "else:\n",
    "    import orjson as json  # mypy is unaware of this"
   ]
  },
  {
   "cell_type": "markdown",
   "metadata": {},
   "source": [
    "In some cases type annotations can cause issues at runtime, see Annotation issues at runtime for dealing with this.\n",
    "\n",
    "See Silencing type errors for details on how to silence errors."
   ]
  },
  {
   "cell_type": "markdown",
   "metadata": {},
   "source": []
  },
  {
   "cell_type": "markdown",
   "metadata": {},
   "source": [
    "## Standard “duck types”\n",
    "In typical Python code, many functions that can take a list or a dict as an argument only need their argument to be somehow “list-like” or “dict-like”. A specific meaning of “list-like” or “dict-like” (or something-else-like) is called a “duck type”, and several duck types that are common in idiomatic Python are standardized.\n",
    "\n"
   ]
  },
  {
   "cell_type": "code",
   "execution_count": 8,
   "metadata": {},
   "outputs": [],
   "source": [
    "from collections.abc import Mapping, MutableMapping, Sequence, Iterable\n",
    "# or 'from typing import ...' (required in Python 3.8)\n",
    "\n",
    "# Use Iterable for generic iterables (anything usable in \"for\"),\n",
    "# and Sequence where a sequence (supporting \"len\" and \"__getitem__\") is\n",
    "# required\n",
    "def f(ints: Iterable[int]) -> list[str]:\n",
    "    return [str(x) for x in ints]\n",
    "\n",
    "f(range(1, 3))\n",
    "\n",
    "# Mapping describes a dict-like object (with \"__getitem__\") that we won't\n",
    "# mutate, and MutableMapping one (with \"__setitem__\") that we might\n",
    "def f(my_mapping: Mapping[int, str]) -> list[int]:\n",
    "    my_mapping[5] = 'maybe'  # mypy will complain about this line...\n",
    "    return list(my_mapping.keys())\n",
    "\n",
    "f({3: 'yes', 4: 'no'})\n",
    "\n",
    "def f(my_mapping: MutableMapping[int, str]) -> set[str]:\n",
    "    my_mapping[5] = 'maybe'  # ...but mypy is OK with this.\n",
    "    return set(my_mapping.values())\n",
    "\n",
    "f({3: 'yes', 4: 'no'})\n",
    "\n",
    "import sys\n",
    "from typing import IO\n",
    "\n",
    "# Use IO[str] or IO[bytes] for functions that should accept or return\n",
    "# objects that come from an open() call (note that IO does not\n",
    "# distinguish between reading, writing or other modes)\n",
    "def get_sys_IO(mode: str = 'w') -> IO[str]:\n",
    "    if mode == 'w':\n",
    "        return sys.stdout\n",
    "    elif mode == 'r':\n",
    "        return sys.stdin\n",
    "    else:\n",
    "        return sys.stdout"
   ]
  },
  {
   "cell_type": "markdown",
   "metadata": {},
   "source": [
    "You can even make your own duck types using Protocols and structural subtyping."
   ]
  },
  {
   "cell_type": "markdown",
   "metadata": {},
   "source": [
    "# Forward references"
   ]
  },
  {
   "cell_type": "code",
   "execution_count": 9,
   "metadata": {},
   "outputs": [],
   "source": [
    "# You may want to reference a class before it is defined.\n",
    "# This is known as a \"forward reference\".\n",
    "def f(foo: A) -> int:  # This will fail at runtime with 'A' is not defined\n",
    "    ...\n",
    "\n",
    "# However, if you add the following special import:\n",
    "from __future__ import annotations\n",
    "# It will work at runtime and type checking will succeed as long as there\n",
    "# is a class of that name later on in the file\n",
    "def f(foo: A) -> int:  # Ok\n",
    "    ...\n",
    "\n",
    "# Another option is to just put the type in quotes\n",
    "def f(foo: 'A') -> int:  # Also ok\n",
    "    ...\n",
    "\n",
    "class A:\n",
    "    # This can also come up if you need to reference a class in a type\n",
    "    # annotation inside the definition of that class\n",
    "    @classmethod\n",
    "    def create(cls) -> A:\n",
    "        ..."
   ]
  },
  {
   "cell_type": "markdown",
   "metadata": {},
   "source": [
    "See Class name forward references for more details."
   ]
  },
  {
   "cell_type": "markdown",
   "metadata": {},
   "source": [
    "# Decorators\n",
    "Decorator functions can be expressed via generics. See Declaring decorators for more details. Example using Python 3.12 syntax:"
   ]
  },
  {
   "cell_type": "code",
   "execution_count": null,
   "metadata": {},
   "outputs": [],
   "source": [
    "from collections.abc import Callable\n",
    "from typing import Any\n",
    "\n",
    "def bare_decorator[F: Callable[..., Any]](func: F) -> F:\n",
    "    ...\n",
    "\n",
    "def decorator_args[F: Callable[..., Any]](url: str) -> Callable[[F], F]:\n",
    "    ..."
   ]
  },
  {
   "cell_type": "markdown",
   "metadata": {},
   "source": [
    "The same example using pre-3.12 syntax:\n",
    "\n"
   ]
  },
  {
   "cell_type": "code",
   "execution_count": 10,
   "metadata": {},
   "outputs": [],
   "source": [
    "from collections.abc import Callable\n",
    "from typing import Any, TypeVar\n",
    "\n",
    "F = TypeVar('F', bound=Callable[..., Any])\n",
    "\n",
    "def bare_decorator(func: F) -> F:\n",
    "    ...\n",
    "\n",
    "def decorator_args(url: str) -> Callable[[F], F]:\n",
    "    ..."
   ]
  },
  {
   "cell_type": "markdown",
   "metadata": {},
   "source": [
    "# Coroutines and asyncio"
   ]
  },
  {
   "cell_type": "markdown",
   "metadata": {},
   "source": [
    "See Typing async/await for the full detail on typing coroutines and asynchronous code.\n",
    "\n"
   ]
  },
  {
   "cell_type": "code",
   "execution_count": 21,
   "metadata": {},
   "outputs": [],
   "source": [
    "import asyncio\n",
    "\n",
    "# A coroutine is typed like a normal function\n",
    "async def countdown(tag: str, count: int) -> str:\n",
    "    while count > 0:\n",
    "        print(f'T-minus {count} ({tag})')\n",
    "        await asyncio.sleep(1)\n",
    "        count -= 1\n",
    "    return \"BISMIALLAH - SET OFF PAK SAT ONE!\""
   ]
  },
  {
   "cell_type": "code",
   "execution_count": 22,
   "metadata": {},
   "outputs": [
    {
     "name": "stdout",
     "output_type": "stream",
     "text": [
      "T-minus 10 (PAKSAT-1 Space Mission)\n",
      "T-minus 9 (PAKSAT-1 Space Mission)\n",
      "T-minus 8 (PAKSAT-1 Space Mission)\n",
      "T-minus 7 (PAKSAT-1 Space Mission)\n",
      "T-minus 6 (PAKSAT-1 Space Mission)\n",
      "T-minus 5 (PAKSAT-1 Space Mission)\n",
      "T-minus 4 (PAKSAT-1 Space Mission)\n",
      "T-minus 3 (PAKSAT-1 Space Mission)\n",
      "T-minus 2 (PAKSAT-1 Space Mission)\n",
      "T-minus 1 (PAKSAT-1 Space Mission)\n"
     ]
    },
    {
     "data": {
      "text/plain": [
       "'BISMIALLAH - SET OFF PAK SAT ONE!'"
      ]
     },
     "execution_count": 22,
     "metadata": {},
     "output_type": "execute_result"
    }
   ],
   "source": [
    "await countdown(\"PAKSAT-1 Space Mission\",10)"
   ]
  }
 ],
 "metadata": {
  "kernelspec": {
   "display_name": "Python 3",
   "language": "python",
   "name": "python3"
  },
  "language_info": {
   "codemirror_mode": {
    "name": "ipython",
    "version": 3
   },
   "file_extension": ".py",
   "mimetype": "text/x-python",
   "name": "python",
   "nbconvert_exporter": "python",
   "pygments_lexer": "ipython3",
   "version": "3.12.4"
  }
 },
 "nbformat": 4,
 "nbformat_minor": 2
}
