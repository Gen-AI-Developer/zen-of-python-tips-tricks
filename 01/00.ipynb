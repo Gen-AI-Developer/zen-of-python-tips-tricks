{
 "cells": [
  {
   "cell_type": "markdown",
   "metadata": {},
   "source": [
    "# Things To Know Before Starting Python"
   ]
  },
  {
   "cell_type": "markdown",
   "metadata": {},
   "source": [
    "### Item 1: Know Which Version of Python You’re Using\n",
    "\n",
    "Throughout this book, the majority of example code is in the syntax of Python 3.7 (released in June 2018). This book also provides some examples  in  the  syntax  of  Python  3.8  (released  in  October  2019)  to  highlight  new  features  that  will  be  more  widely  available  soon.  This  book does not cover Python 2.Many computers come with multiple versions of the standard CPython runtime  preinstalled.  However,  the  default  meaning  of  python  on  the  command line may not be clear. python is usually an alias for python2.7, but it can sometimes be an alias for even older versions, like python2.6or python2.5. To find out exactly which version of Python you’re using, you can use the --version flag.\n",
    "\n",
    ":$ python --versionPython 2.7.10\n",
    "\n",
    "Python 3 is usually available under the name python3:$ python3 --versionPython 3.8.0You can also figure out the version of Python you’re using at runtime by inspecting values in the sys built-in module:\n",
    "\n",
    "import sysprint(sys.version_info)\n",
    "print(sys.version)\n",
    "sys.version_info(major=3, minor=8, micro=0, \u0002releaselevel='final', serial=0)3.8.0 (default, Oct 21 2019, 12:51:32) [Clang 6.0 (clang-600.0.57)]Python  3  is  actively  maintained  by  the  Python  core  developers  and  community,  and  it  is  constantly  being  improved.  Python  3  includes  a variety of powerful new features that are covered in this book. The majority of Python’s most common open source libraries are compat-ible  with  and  focused  on  Python  3.  I  strongly  encourage  you  to  use  Python 3 for all your Python projects.Python 2 is scheduled for end of life after January 1, 2020, at which point  all  forms  of  bug  fixes,  security  patches,  and  backports  of  fea-tures will cease. Using Python 2 after that date is a liability because it will no longer be officially maintained. If you’re still stuck working in a Python 2 codebase, you should consider using helpful tools like 2to3(preinstalled  with  Python)  and  six  (available  as  a  community  pack-age; see Item 82: “Know Where to Find Community-Built  Modules”) to help you make the transition to Python 3.Things to Remember✦ Python  3  is  the  most  up-to-date  and  well-supported  version  of  Python, and you should use it for your projects.✦ Be  sure  that  the  command-line  executable  for  running  Python  on  your system is the version you expect it to be.✦ Avoid Python 2 because it will no longer be maintained after January 1, 2020."
   ]
  }
 ],
 "metadata": {
  "language_info": {
   "name": "python"
  }
 },
 "nbformat": 4,
 "nbformat_minor": 2
}
